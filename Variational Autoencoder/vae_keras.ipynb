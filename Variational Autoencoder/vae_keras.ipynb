{
 "cells": [
  {
   "cell_type": "code",
   "execution_count": 77,
   "metadata": {},
   "outputs": [],
   "source": [
    "from keras.datasets import mnist\n",
    "X_train = []"
   ]
  },
  {
   "cell_type": "code",
   "execution_count": 78,
   "metadata": {},
   "outputs": [],
   "source": [
    "(x_train,_),(_,_)= mnist.load_data()\n",
    "x_train = np.reshape(a=x_train,newshape=(60000,784))\n"
   ]
  },
  {
   "cell_type": "code",
   "execution_count": 79,
   "metadata": {},
   "outputs": [
    {
     "data": {
      "text/plain": [
       "(60000, 784)"
      ]
     },
     "execution_count": 79,
     "metadata": {},
     "output_type": "execute_result"
    }
   ],
   "source": [
    "for i in range(x_train.shape[0]):\n",
    "    X_train.append(x_train[i])\n",
    "\n",
    "X_train = np.array(X_train)\n",
    "X_train.shape"
   ]
  },
  {
   "cell_type": "code",
   "execution_count": 4,
   "metadata": {},
   "outputs": [],
   "source": [
    "import keras \n",
    "from keras.models import Model\n",
    "from keras.layers import Input, Dense, Lambda\n",
    "from keras.objectives import binary_crossentropy\n",
    "from keras.callbacks import LearningRateScheduler"
   ]
  },
  {
   "cell_type": "code",
   "execution_count": 5,
   "metadata": {},
   "outputs": [],
   "source": [
    "import numpy as np\n",
    "import matplotlib.pyplot as plt\n",
    "import keras.backend as K\n",
    "import tensorflow as tf"
   ]
  },
  {
   "cell_type": "code",
   "execution_count": 20,
   "metadata": {},
   "outputs": [],
   "source": [
    "m = 50\n",
    "n_z = 2\n",
    "n_epoch = 10"
   ]
  },
  {
   "cell_type": "code",
   "execution_count": 21,
   "metadata": {},
   "outputs": [],
   "source": [
    "inputs = Input(shape=(784,))\n",
    "h_q = Dense(512,activation='relu')(inputs)\n",
    "mu = Dense(n_z,activation='linear')(h_q)\n",
    "log_sigma = Dense(n_z,activation='linear')(h_q)\n"
   ]
  },
  {
   "cell_type": "code",
   "execution_count": 22,
   "metadata": {},
   "outputs": [],
   "source": [
    "def sample_z(args):  \n",
    "    mu, log_sigma = args\n",
    "    eps = K.random_normal(shape=(m,n_z),mean=0.0,stddev=1.0)\n",
    "    sample = mu + K.exp(log_sigma/2)*eps\n",
    "    return sample"
   ]
  },
  {
   "cell_type": "code",
   "execution_count": 23,
   "metadata": {},
   "outputs": [],
   "source": [
    "z=Lambda(sample_z)([mu,log_sigma])"
   ]
  },
  {
   "cell_type": "code",
   "execution_count": 25,
   "metadata": {},
   "outputs": [],
   "source": [
    "decoder_hidden = Dense(512, activation='relu')\n",
    "decoder_out = Dense(784,activation='sigmoid')\n",
    "h_p = decoder_hidden(z)\n",
    "outputs = decoder_out(h_p)"
   ]
  },
  {
   "cell_type": "code",
   "execution_count": 26,
   "metadata": {},
   "outputs": [],
   "source": [
    "vae = Model(inputs,outputs)"
   ]
  },
  {
   "cell_type": "code",
   "execution_count": 27,
   "metadata": {},
   "outputs": [],
   "source": [
    "encoder = Model(inputs,mu)"
   ]
  },
  {
   "cell_type": "code",
   "execution_count": 28,
   "metadata": {},
   "outputs": [],
   "source": [
    "d_in = Input(shape=(n_z,))\n",
    "d_h = decoder_hidden(d_in)\n",
    "d_out = decoder_out(d_h)\n",
    "decoder = Model(d_in, d_out)"
   ]
  },
  {
   "cell_type": "code",
   "execution_count": 29,
   "metadata": {},
   "outputs": [],
   "source": [
    "def vae_loss(y_true, y_pred):\n",
    "    recons_loss = K.sum(K.binary_crossentropy(y_true,y_pred),axis=1)\n",
    "    Dkl_loss = 0.5*K.sum(K.exp(log_sigma)+K.square(mu)-1.0-log_sigma,axis=1)\n",
    "    return Dkl_loss + recons_loss\n",
    "    "
   ]
  },
  {
   "cell_type": "code",
   "execution_count": 80,
   "metadata": {},
   "outputs": [
    {
     "name": "stdout",
     "output_type": "stream",
     "text": [
      "Epoch 1/10\n",
      "60000/60000 [==============================] - 27s 449us/step - loss: nan\n",
      "Epoch 2/10\n",
      "60000/60000 [==============================] - 12s 198us/step - loss: nan\n",
      "Epoch 3/10\n",
      "60000/60000 [==============================] - 12s 208us/step - loss: nan\n",
      "Epoch 4/10\n",
      "60000/60000 [==============================] - 11s 184us/step - loss: nan\n",
      "Epoch 5/10\n",
      "60000/60000 [==============================] - 12s 194us/step - loss: nan\n",
      "Epoch 6/10\n",
      "60000/60000 [==============================] - 11s 185us/step - loss: nan\n",
      "Epoch 7/10\n",
      "60000/60000 [==============================] - 12s 200us/step - loss: nan\n",
      "Epoch 8/10\n",
      "60000/60000 [==============================] - 10s 166us/step - loss: nan\n",
      "Epoch 9/10\n",
      "60000/60000 [==============================] - 13s 209us/step - loss: nan\n",
      "Epoch 10/10\n",
      "60000/60000 [==============================] - 10s 167us/step - loss: nan\n"
     ]
    },
    {
     "data": {
      "text/plain": [
       "<keras.callbacks.History at 0x7fe420221438>"
      ]
     },
     "execution_count": 80,
     "metadata": {},
     "output_type": "execute_result"
    }
   ],
   "source": [
    "vae.compile(optimizer='adam',loss=vae_loss)\n",
    "vae.fit(X_train,X_train,batch_size=m,epochs=n_epoch)"
   ]
  },
  {
   "cell_type": "code",
   "execution_count": null,
   "metadata": {},
   "outputs": [],
   "source": []
  }
 ],
 "metadata": {
  "kernelspec": {
   "display_name": "Python 3",
   "language": "python",
   "name": "python3"
  },
  "language_info": {
   "codemirror_mode": {
    "name": "ipython",
    "version": 3
   },
   "file_extension": ".py",
   "mimetype": "text/x-python",
   "name": "python",
   "nbconvert_exporter": "python",
   "pygments_lexer": "ipython3",
   "version": "3.6.7"
  }
 },
 "nbformat": 4,
 "nbformat_minor": 2
}
